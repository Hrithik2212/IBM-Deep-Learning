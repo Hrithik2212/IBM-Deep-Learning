{
 "cells": [
  {
   "cell_type": "markdown",
   "metadata": {
    "run_control": {
     "marked": true
    }
   },
   "source": [
    "# Machine Learning Foundation\n",
    "\n",
    "## Course 5, Part e: CNN DEMO"
   ]
  },
  {
   "cell_type": "markdown",
   "metadata": {},
   "source": [
    "## Building a CNN to classify images in the CIFAR-10 Dataset\n",
    "\n",
    "We will work with the CIFAR-10 Dataset.  This is a well-known dataset for image classification, which consists of 60000 32x32 color images in 10 classes, with 6000 images per class. There are 50000 training images and 10000 test images.\n",
    "\n",
    "The 10 classes are:\n",
    "\n",
    "<ol start=\"0\">\n",
    "<li> airplane\n",
    "<li>  automobile\n",
    "<li> bird\n",
    "<li>  cat\n",
    "<li> deer\n",
    "<li> dog\n",
    "<li>  frog\n",
    "<li>  horse\n",
    "<li>  ship\n",
    "<li>  truck\n",
    "</ol>\n",
    "\n",
    "For details about CIFAR-10 see:\n",
    "https://www.cs.toronto.edu/~kriz/cifar.html\n",
    "\n",
    "For a compilation of published performance results on CIFAR 10, see:\n",
    "http://rodrigob.github.io/are_we_there_yet/build/classification_datasets_results.html\n",
    "\n",
    "---\n",
    "\n",
    "### Building Convolutional Neural Nets\n",
    "\n",
    "In this exercise we will build and train our first convolutional neural networks.  In the first part, we walk through the different layers and how they are configured.  In the second part, you will build your own model, train it, and compare the performance."
   ]
  },
  {
   "cell_type": "code",
   "execution_count": 1,
   "metadata": {},
   "outputs": [
    {
     "name": "stdout",
     "output_type": "stream",
     "text": [
      "WARNING:tensorflow:Please fix your imports. Module tensorflow.python.training.tracking.base has been moved to tensorflow.python.trackable.base. The old module will be deleted in version 2.11.\n",
      "WARNING:tensorflow:Please fix your imports. Module tensorflow.python.training.saving.functional_saver has been moved to tensorflow.python.checkpoint.functional_saver. The old module will be deleted in version 2.11.\n",
      "WARNING:tensorflow:Please fix your imports. Module tensorflow.python.training.saving.checkpoint_options has been moved to tensorflow.python.checkpoint.checkpoint_options. The old module will be deleted in version 2.11.\n"
     ]
    }
   ],
   "source": [
    "import keras\n",
    "#from tensorflow.keras.datasets import cifar10\n",
    "#from tensorflow.keras.preprocessing.image import ImageDataGenerator\n",
    "#from tensorflow.keras.models import Sequential\n",
    "#from tensorflow.keras.layers import Dense, Dropout, Activation, Flatten\n",
    "#from tensorflow.keras.layers import Conv2D, MaxPooling2D\n",
    "from keras.datasets import cifar10\n",
    "from keras.preprocessing.image import ImageDataGenerator\n",
    "from keras.models import Sequential\n",
    "from keras.layers import Dense, Dropout, Activation, Flatten\n",
    "from keras.layers import Conv2D, MaxPooling2D\n",
    "import matplotlib.pyplot as plt"
   ]
  },
  {
   "cell_type": "code",
   "execution_count": 2,
   "metadata": {},
   "outputs": [
    {
     "name": "stdout",
     "output_type": "stream",
     "text": [
      "Downloading data from https://www.cs.toronto.edu/~kriz/cifar-10-python.tar.gz\n",
      "170498071/170498071 [==============================] - 45s 0us/step\n",
      "x_train shape: (50000, 32, 32, 3)\n",
      "50000 train samples\n",
      "10000 test samples\n"
     ]
    }
   ],
   "source": [
    "# The data, shuffled and split between train and test sets:\n",
    "(x_train, y_train), (x_test, y_test) = cifar10.load_data()"
   ]
  },
  {
   "cell_type": "code",
   "execution_count": 3,
   "metadata": {},
   "outputs": [
    {
     "name": "stdout",
     "output_type": "stream",
     "text": [
      "x_train shape: (50000, 32, 32, 3)\n",
      "50000 train samples\n",
      "10000 test samples\n"
     ]
    }
   ],
   "source": [
    "print('x_train shape:', x_train.shape)\n",
    "print(x_train.shape[0], 'train samples')\n",
    "print(x_test.shape[0], 'test samples')"
   ]
  },
  {
   "cell_type": "code",
   "execution_count": 4,
   "metadata": {},
   "outputs": [
    {
     "data": {
      "text/plain": [
       "(32, 32, 3)"
      ]
     },
     "execution_count": 4,
     "metadata": {},
     "output_type": "execute_result"
    }
   ],
   "source": [
    "## Each image is a 32 x 32 x 3 numpy array\n",
    "x_train[444].shape"
   ]
  },
  {
   "cell_type": "code",
   "execution_count": 7,
   "metadata": {},
   "outputs": [
    {
     "name": "stdout",
     "output_type": "stream",
     "text": [
      "[1]\n"
     ]
    },
    {
     "data": {
      "image/png": "[encoded data removed]",
      "text/plain": [
       "<Figure size 432x288 with 1 Axes>"
      ]
     },
     "metadata": {
      "needs_background": "light"
     },
     "output_type": "display_data"
    }
   ],
   "source": [
    "## Let's look at one of the images\n",
    "\n",
    "print(y_train[4])\n",
    "plt.imshow(x_train[4]);"
   ]
  },
  {
   "cell_type": "code",
   "execution_count": 8,
   "metadata": {},
   "outputs": [],
   "source": [
    "num_classes = 10\n",
    "\n",
    "y_train = keras.utils.to_categorical(y_train, num_classes)\n",
    "y_test = keras.utils.to_categorical(y_test, num_classes)"
   ]
  },
  {
   "cell_type": "code",
   "execution_count": 9,
   "metadata": {},
   "outputs": [
    {
     "data": {
      "text/plain": [
       "array([0., 1., 0., 0., 0., 0., 0., 0., 0., 0.], dtype=float32)"
      ]
     },
     "execution_count": 9,
     "metadata": {},
     "output_type": "execute_result"
    }
   ],
   "source": [
    "# now instead of classes described by an integer between 0-9 we have a vector with a 1 in the (Pythonic) 9th position\n",
    "y_train[4]"
   ]
  },
  {
   "cell_type": "code",
   "execution_count": 10,
   "metadata": {},
   "outputs": [],
   "source": [
    "# As before, let's make everything float and scale\n",
    "x_train = x_train.astype('float32')\n",
    "x_test = x_test.astype('float32')\n",
    "x_train /= 255\n",
    "x_test /= 255"
   ]
  },
  {
   "cell_type": "markdown",
   "metadata": {},
   "source": [
    "## Keras Layers for CNNs\n",
    "- Previously we built Neural Networks using primarily the Dense, Activation and Dropout Layers.\n",
    "\n",
    "- Here we will describe how to use some of the CNN-specific layers provided by Keras\n",
    "\n",
    "### Conv2D\n",
    "\n",
    "```python\n",
    "keras.layers.convolutional.Conv2D(filters, kernel_size, strides=(1, 1), padding='valid', data_format=None, dilation_rate=(1, 1), activation=None, use_bias=True, kernel_initializer='glorot_uniform', bias_initializer='zeros', kernel_regularizer=None, bias_regularizer=None, activity_regularizer=None, kernel_constraint=None, bias_constraint=None, **kwargs)\n",
    "```\n",
    "\n",
    "A few parameters explained:\n",
    "- `filters`: the number of filter used per location.  In other words, the depth of the output.\n",
    "- `kernel_size`: an (x,y) tuple giving the height and width of the kernel to be used\n",
    "- `strides`: and (x,y) tuple giving the stride in each dimension.  Default is `(1,1)`\n",
    "- `input_shape`: required only for the first layer\n",
    "\n",
    "Note, the size of the output will be determined by the kernel_size, strides\n",
    "\n",
    "### MaxPooling2D\n",
    "`keras.layers.pooling.MaxPooling2D(pool_size=(2, 2), strides=None, padding='valid', data_format=None)`\n",
    "\n",
    "- `pool_size`: the (x,y) size of the grid to be pooled.\n",
    "- `strides`: Assumed to be the `pool_size` unless otherwise specified\n",
    "\n",
    "### Flatten\n",
    "Turns its input into a one-dimensional vector (per instance).  Usually used when transitioning between convolutional layers and fully connected layers.\n",
    "\n",
    "---\n",
    "\n",
    "## First CNN\n",
    "Below we will build our first CNN.  For demonstration purposes (so that it will train quickly) it is not very deep and has relatively few parameters.  We use strides of 2 in the first two convolutional layers which quickly reduces the dimensions of the output.  After a MaxPooling layer, we flatten, and then have a single fully connected layer before our final classification layer."
   ]
  },
  {
   "cell_type": "code",
   "execution_count": 11,
   "metadata": {},
   "outputs": [
    {
     "name": "stdout",
     "output_type": "stream",
     "text": [
      "Model: \"sequential\"\n",
      "_________________________________________________________________\n",
      " Layer (type)                Output Shape              Param #   \n",
      "=================================================================\n",
      " conv2d (Conv2D)             (None, 16, 16, 32)        2432      \n",
      "                                                                 \n",
      " activation (Activation)     (None, 16, 16, 32)        0         \n",
      "                                                                 \n",
      " conv2d_1 (Conv2D)           (None, 6, 6, 32)          25632     \n",
      "                                                                 \n",
      " activation_1 (Activation)   (None, 6, 6, 32)          0         \n",
      "                                                                 \n",
      " max_pooling2d (MaxPooling2D  (None, 3, 3, 32)         0         \n",
      " )                                                               \n",
      "                                                                 \n",
      " dropout (Dropout)           (None, 3, 3, 32)          0         \n",
      "                                                                 \n",
      " flatten (Flatten)           (None, 288)               0         \n",
      "                                                                 \n",
      " dense (Dense)               (None, 512)               147968    \n",
      "                                                                 \n",
      " activation_2 (Activation)   (None, 512)               0         \n",
      "                                                                 \n",
      " dropout_1 (Dropout)         (None, 512)               0         \n",
      "                                                                 \n",
      " dense_1 (Dense)             (None, 10)                5130      \n",
      "                                                                 \n",
      " activation_3 (Activation)   (None, 10)                0         \n",
      "                                                                 \n",
      "=================================================================\n",
      "Total params: 181,162\n",
      "Trainable params: 181,162\n",
      "Non-trainable params: 0\n",
      "_________________________________________________________________\n"
     ]
    }
   ],
   "source": [
    "# Let's build a CNN using Keras' Sequential capabilities\n",
    "\n",
    "model_1 = Sequential()\n",
    "\n",
    "\n",
    "## 5x5 convolution with 2x2 stride and 32 filters\n",
    "model_1.add(Conv2D(32, (5, 5), strides = (2,2), padding='same',\n",
    "                 input_shape=x_train.shape[1:]))\n",
    "model_1.add(Activation('relu'))\n",
    "\n",
    "## Another 5x5 convolution with 2x2 stride and 32 filters\n",
    "model_1.add(Conv2D(32, (5, 5), strides = (2,2)))\n",
    "model_1.add(Activation('relu'))\n",
    "\n",
    "## 2x2 max pooling reduces to 3 x 3 x 32\n",
    "model_1.add(MaxPooling2D(pool_size=(2, 2)))\n",
    "model_1.add(Dropout(0.25))\n",
    "\n",
    "## Flatten turns 3x3x32 into 288x1\n",
    "model_1.add(Flatten())\n",
    "model_1.add(Dense(512))\n",
    "model_1.add(Activation('relu'))\n",
    "model_1.add(Dropout(0.5))\n",
    "model_1.add(Dense(num_classes))\n",
    "model_1.add(Activation('softmax'))\n",
    "\n",
    "model_1.summary()"
   ]
  },
  {
   "cell_type": "markdown",
   "metadata": {},
   "source": [
    "We still have 181K parameters, even though this is a \"small\" model.\n"
   ]
  },
  {
   "cell_type": "code",
   "execution_count": 12,
   "metadata": {},
   "outputs": [
    {
     "name": "stderr",
     "output_type": "stream",
     "text": [
      "d:\\Computer science\\lib\\site-packages\\keras\\optimizers\\optimizer_v2\\rmsprop.py:140: UserWarning: The `lr` argument is deprecated, use `learning_rate` instead.\n",
      "  super().__init__(name, **kwargs)\n"
     ]
    },
    {
     "name": "stdout",
     "output_type": "stream",
     "text": [
      "Epoch 1/15\n",
      "1563/1563 [==============================] - 28s 16ms/step - loss: 1.7279 - accuracy: 0.3691 - val_loss: 1.4530 - val_accuracy: 0.4769\n",
      "Epoch 2/15\n",
      "1563/1563 [==============================] - 23s 14ms/step - loss: 1.4696 - accuracy: 0.4698 - val_loss: 1.3490 - val_accuracy: 0.5232\n",
      "Epoch 3/15\n",
      "1563/1563 [==============================] - 22s 14ms/step - loss: 1.3592 - accuracy: 0.5118 - val_loss: 1.2417 - val_accuracy: 0.5596\n",
      "Epoch 4/15\n",
      "1563/1563 [==============================] - 22s 14ms/step - loss: 1.2878 - accuracy: 0.5411 - val_loss: 1.1817 - val_accuracy: 0.5773\n",
      "Epoch 5/15\n",
      "1563/1563 [==============================] - 22s 14ms/step - loss: 1.2416 - accuracy: 0.5619 - val_loss: 1.1378 - val_accuracy: 0.5987\n",
      "Epoch 6/15\n",
      "1563/1563 [==============================] - 22s 14ms/step - loss: 1.2051 - accuracy: 0.5749 - val_loss: 1.1130 - val_accuracy: 0.6002\n",
      "Epoch 7/15\n",
      "1563/1563 [==============================] - 22s 14ms/step - loss: 1.1783 - accuracy: 0.5838 - val_loss: 1.1521 - val_accuracy: 0.5943\n",
      "Epoch 8/15\n",
      "1563/1563 [==============================] - 22s 14ms/step - loss: 1.1584 - accuracy: 0.5939 - val_loss: 1.1265 - val_accuracy: 0.6103\n",
      "Epoch 9/15\n",
      "1563/1563 [==============================] - 22s 14ms/step - loss: 1.1370 - accuracy: 0.6011 - val_loss: 1.1255 - val_accuracy: 0.6036\n",
      "Epoch 10/15\n",
      "1563/1563 [==============================] - 22s 14ms/step - loss: 1.1261 - accuracy: 0.6045 - val_loss: 1.2077 - val_accuracy: 0.5830\n",
      "Epoch 11/15\n",
      "1563/1563 [==============================] - 22s 14ms/step - loss: 1.1121 - accuracy: 0.6116 - val_loss: 1.0566 - val_accuracy: 0.6301\n",
      "Epoch 12/15\n",
      "1563/1563 [==============================] - 22s 14ms/step - loss: 1.1033 - accuracy: 0.6175 - val_loss: 1.0909 - val_accuracy: 0.6193\n",
      "Epoch 13/15\n",
      "1563/1563 [==============================] - 22s 14ms/step - loss: 1.0976 - accuracy: 0.6182 - val_loss: 1.0666 - val_accuracy: 0.6297\n",
      "Epoch 14/15\n",
      "1563/1563 [==============================] - 23s 14ms/step - loss: 1.0868 - accuracy: 0.6258 - val_loss: 1.1108 - val_accuracy: 0.6135\n",
      "Epoch 15/15\n",
      "1563/1563 [==============================] - 22s 14ms/step - loss: 1.0792 - accuracy: 0.6289 - val_loss: 1.1647 - val_accuracy: 0.6147\n"
     ]
    },
    {
     "data": {
      "text/plain": [
       "<keras.callbacks.History at 0x188d9978550>"
      ]
     },
     "execution_count": 12,
     "metadata": {},
     "output_type": "execute_result"
    }
   ],
   "source": [
    "batch_size = 32\n",
    "\n",
    "# initiate RMSprop optimizer\n",
    "opt = keras.optimizers.RMSprop(lr=0.0005, decay=1e-6)\n",
    "\n",
    "# Let's train the model using RMSprop\n",
    "model_1.compile(loss='categorical_crossentropy',\n",
    "              optimizer=opt,\n",
    "              metrics=['accuracy'])\n",
    "\n",
    "model_1.fit(x_train, y_train,\n",
    "              batch_size=batch_size,\n",
    "              epochs=15,\n",
    "              validation_data=(x_test, y_test),\n",
    "              shuffle=True)"
   ]
  },
  {
   "cell_type": "code",
   "execution_count": 13,
   "metadata": {},
   "outputs": [
    {
     "name": "stdout",
     "output_type": "stream",
     "text": [
      "Epoch 1/40\n",
      "1563/1563 [==============================] - 23s 15ms/step - loss: 1.0806 - accuracy: 0.6305 - val_loss: 1.0445 - val_accuracy: 0.6377\n",
      "Epoch 2/40\n",
      "1563/1563 [==============================] - 22s 14ms/step - loss: 1.0811 - accuracy: 0.6309 - val_loss: 1.1575 - val_accuracy: 0.5973\n",
      "Epoch 3/40\n",
      "1563/1563 [==============================] - 21s 14ms/step - loss: 1.0783 - accuracy: 0.6306 - val_loss: 1.1303 - val_accuracy: 0.6295\n",
      "Epoch 4/40\n",
      "1563/1563 [==============================] - 22s 14ms/step - loss: 1.0797 - accuracy: 0.6319 - val_loss: 1.1897 - val_accuracy: 0.6177\n",
      "Epoch 5/40\n",
      "1563/1563 [==============================] - 22s 14ms/step - loss: 1.0738 - accuracy: 0.6339 - val_loss: 1.0572 - val_accuracy: 0.6404\n",
      "Epoch 6/40\n",
      "1563/1563 [==============================] - 22s 14ms/step - loss: 1.0736 - accuracy: 0.6352 - val_loss: 1.0766 - val_accuracy: 0.6363\n",
      "Epoch 7/40\n",
      "1563/1563 [==============================] - 22s 14ms/step - loss: 1.0737 - accuracy: 0.6346 - val_loss: 1.1352 - val_accuracy: 0.6236\n",
      "Epoch 8/40\n",
      "1563/1563 [==============================] - 22s 14ms/step - loss: 1.0784 - accuracy: 0.6323 - val_loss: 1.0632 - val_accuracy: 0.6448\n",
      "Epoch 9/40\n",
      "1563/1563 [==============================] - 23s 14ms/step - loss: 1.0760 - accuracy: 0.6364 - val_loss: 1.0721 - val_accuracy: 0.6363\n",
      "Epoch 10/40\n",
      "1563/1563 [==============================] - 22s 14ms/step - loss: 1.0804 - accuracy: 0.6361 - val_loss: 1.0531 - val_accuracy: 0.6498\n",
      "Epoch 11/40\n",
      "1563/1563 [==============================] - 21s 14ms/step - loss: 1.0860 - accuracy: 0.6359 - val_loss: 1.1330 - val_accuracy: 0.6207\n",
      "Epoch 12/40\n",
      "1563/1563 [==============================] - 21s 14ms/step - loss: 1.0877 - accuracy: 0.6347 - val_loss: 1.0965 - val_accuracy: 0.6339\n",
      "Epoch 13/40\n",
      "1563/1563 [==============================] - 22s 14ms/step - loss: 1.0892 - accuracy: 0.6313 - val_loss: 1.0907 - val_accuracy: 0.6343\n",
      "Epoch 14/40\n",
      "1563/1563 [==============================] - 22s 14ms/step - loss: 1.0935 - accuracy: 0.6331 - val_loss: 1.1243 - val_accuracy: 0.6218\n",
      "Epoch 15/40\n",
      "1563/1563 [==============================] - 22s 14ms/step - loss: 1.0882 - accuracy: 0.6322 - val_loss: 1.0924 - val_accuracy: 0.6304\n",
      "Epoch 16/40\n",
      "1563/1563 [==============================] - 22s 14ms/step - loss: 1.0887 - accuracy: 0.6335 - val_loss: 1.0774 - val_accuracy: 0.6408\n",
      "Epoch 17/40\n",
      "1563/1563 [==============================] - 21s 14ms/step - loss: 1.1040 - accuracy: 0.6341 - val_loss: 1.1732 - val_accuracy: 0.6267\n",
      "Epoch 18/40\n",
      "1563/1563 [==============================] - 21s 14ms/step - loss: 1.1098 - accuracy: 0.6277 - val_loss: 1.1006 - val_accuracy: 0.6334\n",
      "Epoch 19/40\n",
      "1563/1563 [==============================] - 21s 14ms/step - loss: 1.1052 - accuracy: 0.6278 - val_loss: 1.1324 - val_accuracy: 0.6321\n",
      "Epoch 20/40\n",
      "1563/1563 [==============================] - 21s 14ms/step - loss: 1.1192 - accuracy: 0.6245 - val_loss: 1.1571 - val_accuracy: 0.6177\n",
      "Epoch 21/40\n",
      "1563/1563 [==============================] - 22s 14ms/step - loss: 1.1226 - accuracy: 0.6249 - val_loss: 1.3462 - val_accuracy: 0.5512\n",
      "Epoch 22/40\n",
      "1563/1563 [==============================] - 21s 14ms/step - loss: 1.1223 - accuracy: 0.6267 - val_loss: 1.1004 - val_accuracy: 0.6481\n",
      "Epoch 23/40\n",
      "1563/1563 [==============================] - 22s 14ms/step - loss: 1.1266 - accuracy: 0.6224 - val_loss: 1.1551 - val_accuracy: 0.6371\n",
      "Epoch 24/40\n",
      "1563/1563 [==============================] - 22s 14ms/step - loss: 1.1257 - accuracy: 0.6235 - val_loss: 1.1426 - val_accuracy: 0.6123\n",
      "Epoch 25/40\n",
      "1563/1563 [==============================] - 22s 14ms/step - loss: 1.1337 - accuracy: 0.6224 - val_loss: 1.2012 - val_accuracy: 0.6138\n",
      "Epoch 26/40\n",
      "1563/1563 [==============================] - 22s 14ms/step - loss: 1.1439 - accuracy: 0.6202 - val_loss: 1.1630 - val_accuracy: 0.6298\n",
      "Epoch 27/40\n",
      "1563/1563 [==============================] - 22s 14ms/step - loss: 1.1434 - accuracy: 0.6207 - val_loss: 1.2232 - val_accuracy: 0.6145\n",
      "Epoch 28/40\n",
      "1563/1563 [==============================] - 22s 14ms/step - loss: 1.1538 - accuracy: 0.6133 - val_loss: 1.2725 - val_accuracy: 0.5908\n",
      "Epoch 29/40\n",
      "1563/1563 [==============================] - 22s 14ms/step - loss: 1.1577 - accuracy: 0.6151 - val_loss: 1.1522 - val_accuracy: 0.6175\n",
      "Epoch 30/40\n",
      "1563/1563 [==============================] - 22s 14ms/step - loss: 1.1617 - accuracy: 0.6122 - val_loss: 1.2464 - val_accuracy: 0.5989\n",
      "Epoch 31/40\n",
      "1563/1563 [==============================] - 21s 14ms/step - loss: 1.1717 - accuracy: 0.6082 - val_loss: 1.1628 - val_accuracy: 0.6233\n",
      "Epoch 32/40\n",
      "1563/1563 [==============================] - 22s 14ms/step - loss: 1.1807 - accuracy: 0.6075 - val_loss: 1.2867 - val_accuracy: 0.5728\n",
      "Epoch 33/40\n",
      "1563/1563 [==============================] - 21s 14ms/step - loss: 1.1802 - accuracy: 0.6094 - val_loss: 1.2567 - val_accuracy: 0.5810\n",
      "Epoch 34/40\n",
      "1563/1563 [==============================] - 22s 14ms/step - loss: 1.1801 - accuracy: 0.6059 - val_loss: 1.1590 - val_accuracy: 0.6152\n",
      "Epoch 35/40\n",
      "1563/1563 [==============================] - 23s 15ms/step - loss: 1.1886 - accuracy: 0.6034 - val_loss: 1.4673 - val_accuracy: 0.5134\n",
      "Epoch 36/40\n",
      "1563/1563 [==============================] - 21s 14ms/step - loss: 1.2024 - accuracy: 0.6022 - val_loss: 1.2270 - val_accuracy: 0.6159\n",
      "Epoch 37/40\n",
      "1563/1563 [==============================] - 22s 14ms/step - loss: 1.1961 - accuracy: 0.6029 - val_loss: 1.2503 - val_accuracy: 0.5907\n",
      "Epoch 38/40\n",
      "1563/1563 [==============================] - 22s 14ms/step - loss: 1.2072 - accuracy: 0.5987 - val_loss: 1.2043 - val_accuracy: 0.6053\n",
      "Epoch 39/40\n",
      "1563/1563 [==============================] - 21s 14ms/step - loss: 1.2158 - accuracy: 0.5957 - val_loss: 1.2846 - val_accuracy: 0.5580\n",
      "Epoch 40/40\n",
      "1563/1563 [==============================] - 21s 14ms/step - loss: 1.2137 - accuracy: 0.5965 - val_loss: 1.2578 - val_accuracy: 0.5868\n"
     ]
    },
    {
     "data": {
      "text/plain": [
       "<keras.callbacks.History at 0x188df586eb0>"
      ]
     },
     "execution_count": 13,
     "metadata": {},
     "output_type": "execute_result"
    }
   ],
   "source": [
    "\n",
    "model_1.fit(x_train, y_train,\n",
    "              batch_size=batch_size,\n",
    "              epochs=40,\n",
    "              validation_data=(x_test, y_test),\n",
    "              shuffle=True)"
   ]
  },
  {
   "cell_type": "markdown",
   "metadata": {},
   "source": [
    "### Exercise\n",
    "Our previous model had the structure:\n",
    "\n",
    "Conv -> Conv -> MaxPool -> (Flatten) -> Dense -> Final Classification\n",
    "\n",
    "(with appropriate activation functions and dropouts)\n",
    "\n",
    "1. Build a more complicated model with the following pattern:\n",
    "- Conv -> Conv -> MaxPool -> Conv -> Conv -> MaxPool -> (Flatten) -> Dense -> Final Classification\n",
    "\n",
    "- Use strides of 1 for all convolutional layers.\n",
    "\n",
    "2. How many parameters does your model have?  How does that compare to the previous model?\n",
    "\n",
    "3. Train it for 5 epochs.  What do you notice about the training time, loss and accuracy numbers (on both the training and validation sets)?\n",
    "\n",
    "5. Try different structures and run times, and see how accurate your model can be.\n"
   ]
  },
  {
   "cell_type": "code",
   "execution_count": 10,
   "metadata": {},
   "outputs": [],
   "source": [
    "# Let's build a CNN using Keras' Sequential capabilities\n",
    "\n",
    "model_2 = Sequential()\n",
    "\n",
    "model_2.add(Conv2D(32, (3, 3), padding='same',\n",
    "                 input_shape=x_train.shape[1:]))\n",
    "model_2.add(Activation('relu'))\n",
    "model_2.add(Conv2D(32, (3, 3)))\n",
    "model_2.add(Activation('relu'))\n",
    "model_2.add(MaxPooling2D(pool_size=(2, 2)))\n",
    "model_2.add(Dropout(0.25))\n",
    "\n",
    "model_2.add(Conv2D(64, (3, 3), padding='same'))\n",
    "model_2.add(Activation('relu'))\n",
    "model_2.add(Conv2D(64, (3, 3)))\n",
    "model_2.add(Activation('relu'))\n",
    "model_2.add(MaxPooling2D(pool_size=(2, 2)))\n",
    "model_2.add(Dropout(0.25))\n",
    "\n",
    "model_2.add(Flatten())\n",
    "model_2.add(Dense(512))\n",
    "model_2.add(Activation('relu'))\n",
    "model_2.add(Dropout(0.5))\n",
    "model_2.add(Dense(num_classes))\n",
    "model_2.add(Activation('softmax'))"
   ]
  },
  {
   "cell_type": "code",
   "execution_count": 11,
   "metadata": {},
   "outputs": [
    {
     "name": "stdout",
     "output_type": "stream",
     "text": [
      "Model: \"sequential_2\"\n",
      "_________________________________________________________________\n",
      "Layer (type)                 Output Shape              Param #   \n",
      "=================================================================\n",
      "conv2d_3 (Conv2D)            (None, 32, 32, 32)        896       \n",
      "_________________________________________________________________\n",
      "activation_5 (Activation)    (None, 32, 32, 32)        0         \n",
      "_________________________________________________________________\n",
      "conv2d_4 (Conv2D)            (None, 30, 30, 32)        9248      \n",
      "_________________________________________________________________\n",
      "activation_6 (Activation)    (None, 30, 30, 32)        0         \n",
      "_________________________________________________________________\n",
      "max_pooling2d_2 (MaxPooling2 (None, 15, 15, 32)        0         \n",
      "_________________________________________________________________\n",
      "dropout_3 (Dropout)          (None, 15, 15, 32)        0         \n",
      "_________________________________________________________________\n",
      "conv2d_5 (Conv2D)            (None, 15, 15, 64)        18496     \n",
      "_________________________________________________________________\n",
      "activation_7 (Activation)    (None, 15, 15, 64)        0         \n",
      "_________________________________________________________________\n",
      "conv2d_6 (Conv2D)            (None, 13, 13, 64)        36928     \n",
      "_________________________________________________________________\n",
      "activation_8 (Activation)    (None, 13, 13, 64)        0         \n",
      "_________________________________________________________________\n",
      "max_pooling2d_3 (MaxPooling2 (None, 6, 6, 64)          0         \n",
      "_________________________________________________________________\n",
      "dropout_4 (Dropout)          (None, 6, 6, 64)          0         \n",
      "_________________________________________________________________\n",
      "flatten_2 (Flatten)          (None, 2304)              0         \n",
      "_________________________________________________________________\n",
      "dense_3 (Dense)              (None, 512)               1180160   \n",
      "_________________________________________________________________\n",
      "activation_9 (Activation)    (None, 512)               0         \n",
      "_________________________________________________________________\n",
      "dropout_5 (Dropout)          (None, 512)               0         \n",
      "_________________________________________________________________\n",
      "dense_4 (Dense)              (None, 10)                5130      \n",
      "_________________________________________________________________\n",
      "activation_10 (Activation)   (None, 10)                0         \n",
      "=================================================================\n",
      "Total params: 1,250,858\n",
      "Trainable params: 1,250,858\n",
      "Non-trainable params: 0\n",
      "_________________________________________________________________\n"
     ]
    }
   ],
   "source": [
    "## Check number of parameters\n",
    "\n",
    "model_2.summary()"
   ]
  },
  {
   "cell_type": "code",
   "execution_count": 12,
   "metadata": {},
   "outputs": [],
   "source": [
    "# initiate RMSprop optimizer\n",
    "opt_2 = keras.optimizers.RMSprop(lr=0.0005)\n",
    "\n",
    "# Let's train the model using RMSprop\n",
    "model_2.compile(loss='categorical_crossentropy',\n",
    "              optimizer=opt_2,\n",
    "              metrics=['accuracy'])"
   ]
  },
  {
   "cell_type": "code",
   "execution_count": 13,
   "metadata": {
    "scrolled": true
   },
   "outputs": [
    {
     "name": "stdout",
     "output_type": "stream",
     "text": [
      "Train on 50000 samples, validate on 10000 samples\n",
      "Epoch 1/5\n",
      "50000/50000 [==============================] - 255s 5ms/step - loss: 1.5711 - accuracy: 0.4337 - val_loss: 1.2029 - val_accuracy: 0.5686\n",
      "Epoch 2/5\n",
      "50000/50000 [==============================] - 263s 5ms/step - loss: 1.1578 - accuracy: 0.5909 - val_loss: 1.1049 - val_accuracy: 0.6119\n",
      "Epoch 3/5\n",
      "50000/50000 [==============================] - 190s 4ms/step - loss: 0.9918 - accuracy: 0.6537 - val_loss: 0.9459 - val_accuracy: 0.6702\n",
      "Epoch 4/5\n",
      "50000/50000 [==============================] - 173s 3ms/step - loss: 0.8942 - accuracy: 0.6887 - val_loss: 1.0118 - val_accuracy: 0.6574\n",
      "Epoch 5/5\n",
      "50000/50000 [==============================] - 169s 3ms/step - loss: 0.8434 - accuracy: 0.7069 - val_loss: 0.8543 - val_accuracy: 0.7012\n"
     ]
    },
    {
     "data": {
      "text/plain": [
       "<keras.callbacks.callbacks.History at 0x20b65aa3948>"
      ]
     },
     "execution_count": 13,
     "metadata": {},
     "output_type": "execute_result"
    }
   ],
   "source": [
    "model_2.fit(x_train, y_train,\n",
    "              batch_size=batch_size,\n",
    "              epochs=5,\n",
    "              validation_data=(x_test, y_test),\n",
    "              shuffle=True)"
   ]
  },
  {
   "cell_type": "markdown",
   "metadata": {},
   "source": [
    "---\n",
    "### Machine Learning Foundation (C) 2020 IBM Corporation"
   ]
  }
 ],
 "metadata": {
  "kernelspec": {
   "display_name": "Python 3.9.6 64-bit",
   "language": "python",
   "name": "python3"
  },
  "language_info": {
   "codemirror_mode": {
    "name": "ipython",
    "version": 3
   },
   "file_extension": ".py",
   "mimetype": "text/x-python",
   "name": "python",
   "nbconvert_exporter": "python",
   "pygments_lexer": "ipython3",
   "version": "3.9.6"
  },
  "vscode": {
   "interpreter": {
    "hash": "0bae745f8ec4217fabcb8fee07d6f0cfda3eab62b76dc08b9184a36fb0012116"
   }
  }
 },
 "nbformat": 4,
 "nbformat_minor": 4
}
